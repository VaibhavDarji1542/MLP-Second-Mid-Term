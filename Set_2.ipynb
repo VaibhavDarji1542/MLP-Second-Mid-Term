{
 "cells": [
  {
   "cell_type": "code",
   "execution_count": 114,
   "metadata": {},
   "outputs": [],
   "source": [
    "import numpy as np\n",
    "import pandas as pd\n",
    "import matplotlib.pyplot as plt"
   ]
  },
  {
   "attachments": {},
   "cell_type": "markdown",
   "metadata": {},
   "source": [
    "## Section :- A"
   ]
  },
  {
   "attachments": {},
   "cell_type": "markdown",
   "metadata": {},
   "source": [
    "#### 1. Create a 5* 5 NumPy array values between 0 to 9.?"
   ]
  },
  {
   "cell_type": "code",
   "execution_count": 115,
   "metadata": {},
   "outputs": [
    {
     "data": {
      "text/plain": [
       "array([[6, 9, 4, 8, 6],\n",
       "       [9, 1, 4, 6, 2],\n",
       "       [2, 5, 5, 3, 3],\n",
       "       [3, 9, 3, 5, 9],\n",
       "       [4, 7, 0, 2, 1]])"
      ]
     },
     "execution_count": 115,
     "metadata": {},
     "output_type": "execute_result"
    }
   ],
   "source": [
    "A = np.random.randint(10 , size=[5,5])\n",
    "A"
   ]
  },
  {
   "attachments": {},
   "cell_type": "markdown",
   "metadata": {},
   "source": [
    "#### 2. Print the data type of element of the array?"
   ]
  },
  {
   "cell_type": "code",
   "execution_count": 116,
   "metadata": {},
   "outputs": [
    {
     "data": {
      "text/plain": [
       "dtype('int32')"
      ]
     },
     "execution_count": 116,
     "metadata": {},
     "output_type": "execute_result"
    }
   ],
   "source": [
    "A.dtype"
   ]
  },
  {
   "attachments": {},
   "cell_type": "markdown",
   "metadata": {},
   "source": [
    "#### 3. Create a pandas dataframe from the python dictionary."
   ]
  },
  {
   "cell_type": "code",
   "execution_count": 117,
   "metadata": {},
   "outputs": [
    {
     "data": {
      "text/html": [
       "<div>\n",
       "<style scoped>\n",
       "    .dataframe tbody tr th:only-of-type {\n",
       "        vertical-align: middle;\n",
       "    }\n",
       "\n",
       "    .dataframe tbody tr th {\n",
       "        vertical-align: top;\n",
       "    }\n",
       "\n",
       "    .dataframe thead th {\n",
       "        text-align: right;\n",
       "    }\n",
       "</style>\n",
       "<table border=\"1\" class=\"dataframe\">\n",
       "  <thead>\n",
       "    <tr style=\"text-align: right;\">\n",
       "      <th></th>\n",
       "      <th>Name</th>\n",
       "      <th>Roll No</th>\n",
       "      <th>Age</th>\n",
       "    </tr>\n",
       "  </thead>\n",
       "  <tbody>\n",
       "    <tr>\n",
       "      <th>0</th>\n",
       "      <td>Ajay</td>\n",
       "      <td>5</td>\n",
       "      <td>21</td>\n",
       "    </tr>\n",
       "    <tr>\n",
       "      <th>1</th>\n",
       "      <td>Avnish</td>\n",
       "      <td>7</td>\n",
       "      <td>25</td>\n",
       "    </tr>\n",
       "    <tr>\n",
       "      <th>2</th>\n",
       "      <td>Joy</td>\n",
       "      <td>10</td>\n",
       "      <td>19</td>\n",
       "    </tr>\n",
       "    <tr>\n",
       "      <th>3</th>\n",
       "      <td>Jockey</td>\n",
       "      <td>3</td>\n",
       "      <td>22</td>\n",
       "    </tr>\n",
       "  </tbody>\n",
       "</table>\n",
       "</div>"
      ],
      "text/plain": [
       "     Name  Roll No  Age\n",
       "0    Ajay        5   21\n",
       "1  Avnish        7   25\n",
       "2     Joy       10   19\n",
       "3  Jockey        3   22"
      ]
     },
     "execution_count": 117,
     "metadata": {},
     "output_type": "execute_result"
    }
   ],
   "source": [
    "B = {\n",
    "        'Name' : ['Ajay' , 'Avnish' , 'Joy' , 'Jockey'],\n",
    "        'Roll No' : [5,7,10,3],\n",
    "        'Age' : [21,25,19,22]\n",
    "    }\n",
    "C = pd.DataFrame(B)\n",
    "C"
   ]
  },
  {
   "attachments": {},
   "cell_type": "markdown",
   "metadata": {},
   "source": [
    "#### 4. Add one more column in the above dataframe."
   ]
  },
  {
   "cell_type": "code",
   "execution_count": 118,
   "metadata": {},
   "outputs": [
    {
     "data": {
      "text/html": [
       "<div>\n",
       "<style scoped>\n",
       "    .dataframe tbody tr th:only-of-type {\n",
       "        vertical-align: middle;\n",
       "    }\n",
       "\n",
       "    .dataframe tbody tr th {\n",
       "        vertical-align: top;\n",
       "    }\n",
       "\n",
       "    .dataframe thead th {\n",
       "        text-align: right;\n",
       "    }\n",
       "</style>\n",
       "<table border=\"1\" class=\"dataframe\">\n",
       "  <thead>\n",
       "    <tr style=\"text-align: right;\">\n",
       "      <th></th>\n",
       "      <th>Name</th>\n",
       "      <th>Roll No</th>\n",
       "      <th>Age</th>\n",
       "      <th>Division</th>\n",
       "    </tr>\n",
       "  </thead>\n",
       "  <tbody>\n",
       "    <tr>\n",
       "      <th>0</th>\n",
       "      <td>Ajay</td>\n",
       "      <td>5</td>\n",
       "      <td>21</td>\n",
       "      <td>A</td>\n",
       "    </tr>\n",
       "    <tr>\n",
       "      <th>1</th>\n",
       "      <td>Avnish</td>\n",
       "      <td>7</td>\n",
       "      <td>25</td>\n",
       "      <td>A</td>\n",
       "    </tr>\n",
       "    <tr>\n",
       "      <th>2</th>\n",
       "      <td>Joy</td>\n",
       "      <td>10</td>\n",
       "      <td>19</td>\n",
       "      <td>A</td>\n",
       "    </tr>\n",
       "    <tr>\n",
       "      <th>3</th>\n",
       "      <td>Jockey</td>\n",
       "      <td>3</td>\n",
       "      <td>22</td>\n",
       "      <td>A</td>\n",
       "    </tr>\n",
       "  </tbody>\n",
       "</table>\n",
       "</div>"
      ],
      "text/plain": [
       "     Name  Roll No  Age Division\n",
       "0    Ajay        5   21        A\n",
       "1  Avnish        7   25        A\n",
       "2     Joy       10   19        A\n",
       "3  Jockey        3   22        A"
      ]
     },
     "execution_count": 118,
     "metadata": {},
     "output_type": "execute_result"
    }
   ],
   "source": [
    "C['Division'] = 'A'\n",
    "C"
   ]
  },
  {
   "attachments": {},
   "cell_type": "markdown",
   "metadata": {},
   "source": [
    "## Section :- B"
   ]
  },
  {
   "attachments": {},
   "cell_type": "markdown",
   "metadata": {},
   "source": [
    "#### 1. Load the fracture.csv data into pandas dataframe."
   ]
  },
  {
   "cell_type": "code",
   "execution_count": 119,
   "metadata": {},
   "outputs": [
    {
     "data": {
      "text/html": [
       "<div>\n",
       "<style scoped>\n",
       "    .dataframe tbody tr th:only-of-type {\n",
       "        vertical-align: middle;\n",
       "    }\n",
       "\n",
       "    .dataframe tbody tr th {\n",
       "        vertical-align: top;\n",
       "    }\n",
       "\n",
       "    .dataframe thead th {\n",
       "        text-align: right;\n",
       "    }\n",
       "</style>\n",
       "<table border=\"1\" class=\"dataframe\">\n",
       "  <thead>\n",
       "    <tr style=\"text-align: right;\">\n",
       "      <th></th>\n",
       "      <th>id</th>\n",
       "      <th>age</th>\n",
       "      <th>sex</th>\n",
       "      <th>fracture</th>\n",
       "      <th>weight_kg</th>\n",
       "      <th>height_cm</th>\n",
       "      <th>medication</th>\n",
       "      <th>waiting_time</th>\n",
       "      <th>bmd</th>\n",
       "    </tr>\n",
       "  </thead>\n",
       "  <tbody>\n",
       "    <tr>\n",
       "      <th>0</th>\n",
       "      <td>469</td>\n",
       "      <td>57.052768</td>\n",
       "      <td>F</td>\n",
       "      <td>no fracture</td>\n",
       "      <td>64.0</td>\n",
       "      <td>155.5</td>\n",
       "      <td>Anticonvulsant</td>\n",
       "      <td>18</td>\n",
       "      <td>0.8793</td>\n",
       "    </tr>\n",
       "    <tr>\n",
       "      <th>1</th>\n",
       "      <td>8724</td>\n",
       "      <td>75.741225</td>\n",
       "      <td>F</td>\n",
       "      <td>no fracture</td>\n",
       "      <td>78.0</td>\n",
       "      <td>162.0</td>\n",
       "      <td>No medication</td>\n",
       "      <td>56</td>\n",
       "      <td>0.7946</td>\n",
       "    </tr>\n",
       "    <tr>\n",
       "      <th>2</th>\n",
       "      <td>6736</td>\n",
       "      <td>70.778900</td>\n",
       "      <td>M</td>\n",
       "      <td>no fracture</td>\n",
       "      <td>73.0</td>\n",
       "      <td>170.5</td>\n",
       "      <td>No medication</td>\n",
       "      <td>10</td>\n",
       "      <td>0.9067</td>\n",
       "    </tr>\n",
       "    <tr>\n",
       "      <th>3</th>\n",
       "      <td>24180</td>\n",
       "      <td>78.247175</td>\n",
       "      <td>F</td>\n",
       "      <td>no fracture</td>\n",
       "      <td>60.0</td>\n",
       "      <td>148.0</td>\n",
       "      <td>No medication</td>\n",
       "      <td>14</td>\n",
       "      <td>0.7112</td>\n",
       "    </tr>\n",
       "    <tr>\n",
       "      <th>4</th>\n",
       "      <td>17072</td>\n",
       "      <td>54.191877</td>\n",
       "      <td>M</td>\n",
       "      <td>no fracture</td>\n",
       "      <td>55.0</td>\n",
       "      <td>161.0</td>\n",
       "      <td>No medication</td>\n",
       "      <td>20</td>\n",
       "      <td>0.7909</td>\n",
       "    </tr>\n",
       "    <tr>\n",
       "      <th>...</th>\n",
       "      <td>...</td>\n",
       "      <td>...</td>\n",
       "      <td>...</td>\n",
       "      <td>...</td>\n",
       "      <td>...</td>\n",
       "      <td>...</td>\n",
       "      <td>...</td>\n",
       "      <td>...</td>\n",
       "      <td>...</td>\n",
       "    </tr>\n",
       "    <tr>\n",
       "      <th>164</th>\n",
       "      <td>21892</td>\n",
       "      <td>77.982543</td>\n",
       "      <td>M</td>\n",
       "      <td>fracture</td>\n",
       "      <td>74.0</td>\n",
       "      <td>164.0</td>\n",
       "      <td>No medication</td>\n",
       "      <td>49</td>\n",
       "      <td>0.7941</td>\n",
       "    </tr>\n",
       "    <tr>\n",
       "      <th>165</th>\n",
       "      <td>24140</td>\n",
       "      <td>50.285303</td>\n",
       "      <td>F</td>\n",
       "      <td>fracture</td>\n",
       "      <td>59.0</td>\n",
       "      <td>161.0</td>\n",
       "      <td>No medication</td>\n",
       "      <td>6</td>\n",
       "      <td>0.7971</td>\n",
       "    </tr>\n",
       "    <tr>\n",
       "      <th>166</th>\n",
       "      <td>6969</td>\n",
       "      <td>46.359721</td>\n",
       "      <td>M</td>\n",
       "      <td>fracture</td>\n",
       "      <td>67.0</td>\n",
       "      <td>169.0</td>\n",
       "      <td>No medication</td>\n",
       "      <td>10</td>\n",
       "      <td>0.8037</td>\n",
       "    </tr>\n",
       "    <tr>\n",
       "      <th>167</th>\n",
       "      <td>5505</td>\n",
       "      <td>54.788368</td>\n",
       "      <td>M</td>\n",
       "      <td>fracture</td>\n",
       "      <td>70.0</td>\n",
       "      <td>166.0</td>\n",
       "      <td>No medication</td>\n",
       "      <td>14</td>\n",
       "      <td>0.8072</td>\n",
       "    </tr>\n",
       "    <tr>\n",
       "      <th>168</th>\n",
       "      <td>71</td>\n",
       "      <td>69.994822</td>\n",
       "      <td>F</td>\n",
       "      <td>fracture</td>\n",
       "      <td>68.5</td>\n",
       "      <td>165.0</td>\n",
       "      <td>No medication</td>\n",
       "      <td>25</td>\n",
       "      <td>0.8664</td>\n",
       "    </tr>\n",
       "  </tbody>\n",
       "</table>\n",
       "<p>169 rows × 9 columns</p>\n",
       "</div>"
      ],
      "text/plain": [
       "        id        age sex     fracture  weight_kg  height_cm      medication  \\\n",
       "0      469  57.052768   F  no fracture       64.0      155.5  Anticonvulsant   \n",
       "1     8724  75.741225   F  no fracture       78.0      162.0   No medication   \n",
       "2     6736  70.778900   M  no fracture       73.0      170.5   No medication   \n",
       "3    24180  78.247175   F  no fracture       60.0      148.0   No medication   \n",
       "4    17072  54.191877   M  no fracture       55.0      161.0   No medication   \n",
       "..     ...        ...  ..          ...        ...        ...             ...   \n",
       "164  21892  77.982543   M     fracture       74.0      164.0   No medication   \n",
       "165  24140  50.285303   F     fracture       59.0      161.0   No medication   \n",
       "166   6969  46.359721   M     fracture       67.0      169.0   No medication   \n",
       "167   5505  54.788368   M     fracture       70.0      166.0   No medication   \n",
       "168     71  69.994822   F     fracture       68.5      165.0   No medication   \n",
       "\n",
       "     waiting_time     bmd  \n",
       "0              18  0.8793  \n",
       "1              56  0.7946  \n",
       "2              10  0.9067  \n",
       "3              14  0.7112  \n",
       "4              20  0.7909  \n",
       "..            ...     ...  \n",
       "164            49  0.7941  \n",
       "165             6  0.7971  \n",
       "166            10  0.8037  \n",
       "167            14  0.8072  \n",
       "168            25  0.8664  \n",
       "\n",
       "[169 rows x 9 columns]"
      ]
     },
     "execution_count": 119,
     "metadata": {},
     "output_type": "execute_result"
    }
   ],
   "source": [
    "MDF = pd.read_csv('fracture.csv')\n",
    "MDF"
   ]
  },
  {
   "attachments": {},
   "cell_type": "markdown",
   "metadata": {},
   "source": [
    "#### 2. Add new column named “bmi” to store Body Mass Index for each record.Formula to calculate BMI is: weight_kg / (height_cm/100)^2"
   ]
  },
  {
   "cell_type": "code",
   "execution_count": 120,
   "metadata": {},
   "outputs": [
    {
     "data": {
      "text/html": [
       "<div>\n",
       "<style scoped>\n",
       "    .dataframe tbody tr th:only-of-type {\n",
       "        vertical-align: middle;\n",
       "    }\n",
       "\n",
       "    .dataframe tbody tr th {\n",
       "        vertical-align: top;\n",
       "    }\n",
       "\n",
       "    .dataframe thead th {\n",
       "        text-align: right;\n",
       "    }\n",
       "</style>\n",
       "<table border=\"1\" class=\"dataframe\">\n",
       "  <thead>\n",
       "    <tr style=\"text-align: right;\">\n",
       "      <th></th>\n",
       "      <th>id</th>\n",
       "      <th>age</th>\n",
       "      <th>sex</th>\n",
       "      <th>fracture</th>\n",
       "      <th>weight_kg</th>\n",
       "      <th>height_cm</th>\n",
       "      <th>medication</th>\n",
       "      <th>waiting_time</th>\n",
       "      <th>bmd</th>\n",
       "      <th>bmi</th>\n",
       "    </tr>\n",
       "  </thead>\n",
       "  <tbody>\n",
       "    <tr>\n",
       "      <th>0</th>\n",
       "      <td>469</td>\n",
       "      <td>57.052768</td>\n",
       "      <td>F</td>\n",
       "      <td>no fracture</td>\n",
       "      <td>64.0</td>\n",
       "      <td>155.5</td>\n",
       "      <td>Anticonvulsant</td>\n",
       "      <td>18</td>\n",
       "      <td>0.8793</td>\n",
       "      <td>26.467882</td>\n",
       "    </tr>\n",
       "    <tr>\n",
       "      <th>1</th>\n",
       "      <td>8724</td>\n",
       "      <td>75.741225</td>\n",
       "      <td>F</td>\n",
       "      <td>no fracture</td>\n",
       "      <td>78.0</td>\n",
       "      <td>162.0</td>\n",
       "      <td>No medication</td>\n",
       "      <td>56</td>\n",
       "      <td>0.7946</td>\n",
       "      <td>29.721079</td>\n",
       "    </tr>\n",
       "    <tr>\n",
       "      <th>2</th>\n",
       "      <td>6736</td>\n",
       "      <td>70.778900</td>\n",
       "      <td>M</td>\n",
       "      <td>no fracture</td>\n",
       "      <td>73.0</td>\n",
       "      <td>170.5</td>\n",
       "      <td>No medication</td>\n",
       "      <td>10</td>\n",
       "      <td>0.9067</td>\n",
       "      <td>25.111583</td>\n",
       "    </tr>\n",
       "    <tr>\n",
       "      <th>3</th>\n",
       "      <td>24180</td>\n",
       "      <td>78.247175</td>\n",
       "      <td>F</td>\n",
       "      <td>no fracture</td>\n",
       "      <td>60.0</td>\n",
       "      <td>148.0</td>\n",
       "      <td>No medication</td>\n",
       "      <td>14</td>\n",
       "      <td>0.7112</td>\n",
       "      <td>27.392257</td>\n",
       "    </tr>\n",
       "    <tr>\n",
       "      <th>4</th>\n",
       "      <td>17072</td>\n",
       "      <td>54.191877</td>\n",
       "      <td>M</td>\n",
       "      <td>no fracture</td>\n",
       "      <td>55.0</td>\n",
       "      <td>161.0</td>\n",
       "      <td>No medication</td>\n",
       "      <td>20</td>\n",
       "      <td>0.7909</td>\n",
       "      <td>21.218317</td>\n",
       "    </tr>\n",
       "    <tr>\n",
       "      <th>...</th>\n",
       "      <td>...</td>\n",
       "      <td>...</td>\n",
       "      <td>...</td>\n",
       "      <td>...</td>\n",
       "      <td>...</td>\n",
       "      <td>...</td>\n",
       "      <td>...</td>\n",
       "      <td>...</td>\n",
       "      <td>...</td>\n",
       "      <td>...</td>\n",
       "    </tr>\n",
       "    <tr>\n",
       "      <th>164</th>\n",
       "      <td>21892</td>\n",
       "      <td>77.982543</td>\n",
       "      <td>M</td>\n",
       "      <td>fracture</td>\n",
       "      <td>74.0</td>\n",
       "      <td>164.0</td>\n",
       "      <td>No medication</td>\n",
       "      <td>49</td>\n",
       "      <td>0.7941</td>\n",
       "      <td>27.513385</td>\n",
       "    </tr>\n",
       "    <tr>\n",
       "      <th>165</th>\n",
       "      <td>24140</td>\n",
       "      <td>50.285303</td>\n",
       "      <td>F</td>\n",
       "      <td>fracture</td>\n",
       "      <td>59.0</td>\n",
       "      <td>161.0</td>\n",
       "      <td>No medication</td>\n",
       "      <td>6</td>\n",
       "      <td>0.7971</td>\n",
       "      <td>22.761468</td>\n",
       "    </tr>\n",
       "    <tr>\n",
       "      <th>166</th>\n",
       "      <td>6969</td>\n",
       "      <td>46.359721</td>\n",
       "      <td>M</td>\n",
       "      <td>fracture</td>\n",
       "      <td>67.0</td>\n",
       "      <td>169.0</td>\n",
       "      <td>No medication</td>\n",
       "      <td>10</td>\n",
       "      <td>0.8037</td>\n",
       "      <td>23.458562</td>\n",
       "    </tr>\n",
       "    <tr>\n",
       "      <th>167</th>\n",
       "      <td>5505</td>\n",
       "      <td>54.788368</td>\n",
       "      <td>M</td>\n",
       "      <td>fracture</td>\n",
       "      <td>70.0</td>\n",
       "      <td>166.0</td>\n",
       "      <td>No medication</td>\n",
       "      <td>14</td>\n",
       "      <td>0.8072</td>\n",
       "      <td>25.402816</td>\n",
       "    </tr>\n",
       "    <tr>\n",
       "      <th>168</th>\n",
       "      <td>71</td>\n",
       "      <td>69.994822</td>\n",
       "      <td>F</td>\n",
       "      <td>fracture</td>\n",
       "      <td>68.5</td>\n",
       "      <td>165.0</td>\n",
       "      <td>No medication</td>\n",
       "      <td>25</td>\n",
       "      <td>0.8664</td>\n",
       "      <td>25.160698</td>\n",
       "    </tr>\n",
       "  </tbody>\n",
       "</table>\n",
       "<p>169 rows × 10 columns</p>\n",
       "</div>"
      ],
      "text/plain": [
       "        id        age sex     fracture  weight_kg  height_cm      medication  \\\n",
       "0      469  57.052768   F  no fracture       64.0      155.5  Anticonvulsant   \n",
       "1     8724  75.741225   F  no fracture       78.0      162.0   No medication   \n",
       "2     6736  70.778900   M  no fracture       73.0      170.5   No medication   \n",
       "3    24180  78.247175   F  no fracture       60.0      148.0   No medication   \n",
       "4    17072  54.191877   M  no fracture       55.0      161.0   No medication   \n",
       "..     ...        ...  ..          ...        ...        ...             ...   \n",
       "164  21892  77.982543   M     fracture       74.0      164.0   No medication   \n",
       "165  24140  50.285303   F     fracture       59.0      161.0   No medication   \n",
       "166   6969  46.359721   M     fracture       67.0      169.0   No medication   \n",
       "167   5505  54.788368   M     fracture       70.0      166.0   No medication   \n",
       "168     71  69.994822   F     fracture       68.5      165.0   No medication   \n",
       "\n",
       "     waiting_time     bmd        bmi  \n",
       "0              18  0.8793  26.467882  \n",
       "1              56  0.7946  29.721079  \n",
       "2              10  0.9067  25.111583  \n",
       "3              14  0.7112  27.392257  \n",
       "4              20  0.7909  21.218317  \n",
       "..            ...     ...        ...  \n",
       "164            49  0.7941  27.513385  \n",
       "165             6  0.7971  22.761468  \n",
       "166            10  0.8037  23.458562  \n",
       "167            14  0.8072  25.402816  \n",
       "168            25  0.8664  25.160698  \n",
       "\n",
       "[169 rows x 10 columns]"
      ]
     },
     "execution_count": 120,
     "metadata": {},
     "output_type": "execute_result"
    }
   ],
   "source": [
    "MDF['bmi'] = MDF['weight_kg'] / (MDF['height_cm'] / 100) ** 2\n",
    "MDF"
   ]
  },
  {
   "attachments": {},
   "cell_type": "markdown",
   "metadata": {},
   "source": [
    "#### 3. Split the data set in to test and train in 30:70 ratio."
   ]
  },
  {
   "cell_type": "code",
   "execution_count": 121,
   "metadata": {},
   "outputs": [],
   "source": [
    "x = MDF[['age' , 'sex' , 'bmi' , 'bmd']]\n",
    "y = MDF['fracture'].values"
   ]
  },
  {
   "cell_type": "code",
   "execution_count": 122,
   "metadata": {},
   "outputs": [
    {
     "name": "stderr",
     "output_type": "stream",
     "text": [
      "C:\\Users\\VAIBHAV DARJI\\AppData\\Local\\Temp\\ipykernel_10396\\4087404088.py:7: SettingWithCopyWarning: \n",
      "A value is trying to be set on a copy of a slice from a DataFrame.\n",
      "Try using .loc[row_indexer,col_indexer] = value instead\n",
      "\n",
      "See the caveats in the documentation: https://pandas.pydata.org/pandas-docs/stable/user_guide/indexing.html#returning-a-view-versus-a-copy\n",
      "  x['sex'] = label_s.fit_transform(x['sex'])\n"
     ]
    }
   ],
   "source": [
    "from sklearn.preprocessing import LabelEncoder\n",
    "label_y = LabelEncoder()\n",
    "y = label_y.fit_transform(y)\n",
    "\n",
    "\n",
    "label_s = LabelEncoder()\n",
    "x['sex'] = label_s.fit_transform(x['sex'])"
   ]
  },
  {
   "cell_type": "code",
   "execution_count": 123,
   "metadata": {},
   "outputs": [],
   "source": [
    "from sklearn.model_selection import train_test_split\n",
    "x_train , x_test , y_train , y_test = train_test_split(x , y , test_size=0.3)"
   ]
  },
  {
   "attachments": {},
   "cell_type": "markdown",
   "metadata": {},
   "source": [
    "#### 4. Build a Naive Bias model to predict the fracture considering age, sex,bmi and bmd."
   ]
  },
  {
   "cell_type": "code",
   "execution_count": 124,
   "metadata": {},
   "outputs": [],
   "source": [
    "from sklearn.naive_bayes import GaussianNB\n",
    "gaussian_model = GaussianNB()\n",
    "gaussian_model.fit(x_train , y_train)\n",
    "y_pred = gaussian_model.predict(x_test)"
   ]
  },
  {
   "cell_type": "code",
   "execution_count": 125,
   "metadata": {},
   "outputs": [
    {
     "data": {
      "text/plain": [
       "array([0, 0, 1, 1, 0, 0, 1, 1, 1, 0, 0, 0, 1, 1, 0, 1, 1, 1, 1, 1, 0, 1,\n",
       "       1, 1, 1, 1, 0, 1, 0, 0, 1, 1, 1, 0, 0, 0, 1, 1, 1, 1, 0, 0, 1, 1,\n",
       "       1, 1, 1, 1, 1, 1, 1])"
      ]
     },
     "execution_count": 125,
     "metadata": {},
     "output_type": "execute_result"
    }
   ],
   "source": [
    "y_pred"
   ]
  },
  {
   "attachments": {},
   "cell_type": "markdown",
   "metadata": {},
   "source": [
    "#### 5. Apply the model on to the test and train data. Plot the outcomes of prediction using appropriate graph."
   ]
  },
  {
   "cell_type": "code",
   "execution_count": null,
   "metadata": {},
   "outputs": [],
   "source": []
  },
  {
   "attachments": {},
   "cell_type": "markdown",
   "metadata": {},
   "source": [
    "#### 6. Calculate accuracy of the model using confusion matix."
   ]
  },
  {
   "cell_type": "code",
   "execution_count": 126,
   "metadata": {},
   "outputs": [
    {
     "data": {
      "text/plain": [
       "array([[11,  5],\n",
       "       [ 6, 29]], dtype=int64)"
      ]
     },
     "execution_count": 126,
     "metadata": {},
     "output_type": "execute_result"
    }
   ],
   "source": [
    "from sklearn.metrics import confusion_matrix\n",
    "\n",
    "confusion_matrix(y_test , y_pred)"
   ]
  },
  {
   "cell_type": "code",
   "execution_count": 129,
   "metadata": {},
   "outputs": [
    {
     "data": {
      "text/plain": [
       "0.7843137254901961"
      ]
     },
     "execution_count": 129,
     "metadata": {},
     "output_type": "execute_result"
    }
   ],
   "source": [
    "40/51"
   ]
  },
  {
   "cell_type": "code",
   "execution_count": 130,
   "metadata": {},
   "outputs": [
    {
     "data": {
      "text/plain": [
       "0.7843137254901961"
      ]
     },
     "execution_count": 130,
     "metadata": {},
     "output_type": "execute_result"
    }
   ],
   "source": [
    "gaussian_model.score(x_test , y_test)"
   ]
  }
 ],
 "metadata": {
  "kernelspec": {
   "display_name": "Python 3",
   "language": "python",
   "name": "python3"
  },
  "language_info": {
   "codemirror_mode": {
    "name": "ipython",
    "version": 3
   },
   "file_extension": ".py",
   "mimetype": "text/x-python",
   "name": "python",
   "nbconvert_exporter": "python",
   "pygments_lexer": "ipython3",
   "version": "3.10.7"
  },
  "orig_nbformat": 4
 },
 "nbformat": 4,
 "nbformat_minor": 2
}
