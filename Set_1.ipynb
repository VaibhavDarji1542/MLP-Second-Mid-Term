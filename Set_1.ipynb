{
 "cells": [
  {
   "cell_type": "code",
   "execution_count": 45,
   "metadata": {},
   "outputs": [],
   "source": [
    "import numpy as np\n",
    "import pandas as pd\n",
    "import matplotlib.pyplot as plt"
   ]
  },
  {
   "attachments": {},
   "cell_type": "markdown",
   "metadata": {},
   "source": [
    "## Section :- A"
   ]
  },
  {
   "attachments": {},
   "cell_type": "markdown",
   "metadata": {},
   "source": [
    "#### 1. Create a NumPy array from a list?"
   ]
  },
  {
   "cell_type": "code",
   "execution_count": 46,
   "metadata": {},
   "outputs": [
    {
     "data": {
      "text/plain": [
       "array([5, 2, 3])"
      ]
     },
     "execution_count": 46,
     "metadata": {},
     "output_type": "execute_result"
    }
   ],
   "source": [
    "A = [5,2,3]\n",
    "B = np.array(A)\n",
    "B"
   ]
  },
  {
   "attachments": {},
   "cell_type": "markdown",
   "metadata": {},
   "source": [
    "#### 2. Print the maximum and minimum value in above NumPy array?"
   ]
  },
  {
   "cell_type": "code",
   "execution_count": 47,
   "metadata": {},
   "outputs": [
    {
     "name": "stdout",
     "output_type": "stream",
     "text": [
      "Max : 5\n",
      "Min: 2\n"
     ]
    }
   ],
   "source": [
    "print(\"Max :\" ,max(B))\n",
    "print(\"Min:\" ,min(B))"
   ]
  },
  {
   "attachments": {},
   "cell_type": "markdown",
   "metadata": {},
   "source": [
    "#### 3. Create a pandas dataframe from the python dictionary."
   ]
  },
  {
   "cell_type": "code",
   "execution_count": 48,
   "metadata": {},
   "outputs": [
    {
     "data": {
      "text/html": [
       "<div>\n",
       "<style scoped>\n",
       "    .dataframe tbody tr th:only-of-type {\n",
       "        vertical-align: middle;\n",
       "    }\n",
       "\n",
       "    .dataframe tbody tr th {\n",
       "        vertical-align: top;\n",
       "    }\n",
       "\n",
       "    .dataframe thead th {\n",
       "        text-align: right;\n",
       "    }\n",
       "</style>\n",
       "<table border=\"1\" class=\"dataframe\">\n",
       "  <thead>\n",
       "    <tr style=\"text-align: right;\">\n",
       "      <th></th>\n",
       "      <th>Name</th>\n",
       "      <th>Roll No</th>\n",
       "      <th>Division</th>\n",
       "    </tr>\n",
       "  </thead>\n",
       "  <tbody>\n",
       "    <tr>\n",
       "      <th>0</th>\n",
       "      <td>Joy</td>\n",
       "      <td>5</td>\n",
       "      <td>A</td>\n",
       "    </tr>\n",
       "    <tr>\n",
       "      <th>1</th>\n",
       "      <td>James</td>\n",
       "      <td>8</td>\n",
       "      <td>B</td>\n",
       "    </tr>\n",
       "    <tr>\n",
       "      <th>2</th>\n",
       "      <td>Pollard</td>\n",
       "      <td>3</td>\n",
       "      <td>D</td>\n",
       "    </tr>\n",
       "  </tbody>\n",
       "</table>\n",
       "</div>"
      ],
      "text/plain": [
       "      Name  Roll No Division\n",
       "0      Joy        5        A\n",
       "1    James        8        B\n",
       "2  Pollard        3        D"
      ]
     },
     "execution_count": 48,
     "metadata": {},
     "output_type": "execute_result"
    }
   ],
   "source": [
    "C1 = ['Joy' , 'James' , 'Pollard']\n",
    "C2 = [5,8,3]\n",
    "C3 = ['A' , 'B' , 'D']\n",
    "\n",
    "C = {\n",
    "    'Name' : C1,\n",
    "    'Roll No' : C2,\n",
    "    'Division' : C3\n",
    "    }\n",
    "\n",
    "D = pd.DataFrame(C)\n",
    "D\n"
   ]
  },
  {
   "attachments": {},
   "cell_type": "markdown",
   "metadata": {},
   "source": [
    "#### 4. Delete one column from the above dataframe."
   ]
  },
  {
   "cell_type": "code",
   "execution_count": 49,
   "metadata": {},
   "outputs": [
    {
     "data": {
      "text/html": [
       "<div>\n",
       "<style scoped>\n",
       "    .dataframe tbody tr th:only-of-type {\n",
       "        vertical-align: middle;\n",
       "    }\n",
       "\n",
       "    .dataframe tbody tr th {\n",
       "        vertical-align: top;\n",
       "    }\n",
       "\n",
       "    .dataframe thead th {\n",
       "        text-align: right;\n",
       "    }\n",
       "</style>\n",
       "<table border=\"1\" class=\"dataframe\">\n",
       "  <thead>\n",
       "    <tr style=\"text-align: right;\">\n",
       "      <th></th>\n",
       "      <th>Name</th>\n",
       "      <th>Roll No</th>\n",
       "    </tr>\n",
       "  </thead>\n",
       "  <tbody>\n",
       "    <tr>\n",
       "      <th>0</th>\n",
       "      <td>Joy</td>\n",
       "      <td>5</td>\n",
       "    </tr>\n",
       "    <tr>\n",
       "      <th>1</th>\n",
       "      <td>James</td>\n",
       "      <td>8</td>\n",
       "    </tr>\n",
       "    <tr>\n",
       "      <th>2</th>\n",
       "      <td>Pollard</td>\n",
       "      <td>3</td>\n",
       "    </tr>\n",
       "  </tbody>\n",
       "</table>\n",
       "</div>"
      ],
      "text/plain": [
       "      Name  Roll No\n",
       "0      Joy        5\n",
       "1    James        8\n",
       "2  Pollard        3"
      ]
     },
     "execution_count": 49,
     "metadata": {},
     "output_type": "execute_result"
    }
   ],
   "source": [
    "D.drop('Division' , axis=1) # axis=1 for columns\n",
    "                            # axis=0 for rows"
   ]
  },
  {
   "attachments": {},
   "cell_type": "markdown",
   "metadata": {},
   "source": [
    "## Section :- B"
   ]
  },
  {
   "attachments": {},
   "cell_type": "markdown",
   "metadata": {},
   "source": [
    "#### 1. Load the fracture.csv data into pandas dataframe and print first 15 record.."
   ]
  },
  {
   "cell_type": "code",
   "execution_count": 50,
   "metadata": {},
   "outputs": [
    {
     "data": {
      "text/html": [
       "<div>\n",
       "<style scoped>\n",
       "    .dataframe tbody tr th:only-of-type {\n",
       "        vertical-align: middle;\n",
       "    }\n",
       "\n",
       "    .dataframe tbody tr th {\n",
       "        vertical-align: top;\n",
       "    }\n",
       "\n",
       "    .dataframe thead th {\n",
       "        text-align: right;\n",
       "    }\n",
       "</style>\n",
       "<table border=\"1\" class=\"dataframe\">\n",
       "  <thead>\n",
       "    <tr style=\"text-align: right;\">\n",
       "      <th></th>\n",
       "      <th>id</th>\n",
       "      <th>age</th>\n",
       "      <th>sex</th>\n",
       "      <th>fracture</th>\n",
       "      <th>weight_kg</th>\n",
       "      <th>height_cm</th>\n",
       "      <th>medication</th>\n",
       "      <th>waiting_time</th>\n",
       "      <th>bmd</th>\n",
       "    </tr>\n",
       "  </thead>\n",
       "  <tbody>\n",
       "    <tr>\n",
       "      <th>0</th>\n",
       "      <td>469</td>\n",
       "      <td>57.052768</td>\n",
       "      <td>F</td>\n",
       "      <td>no fracture</td>\n",
       "      <td>64.0</td>\n",
       "      <td>155.5</td>\n",
       "      <td>Anticonvulsant</td>\n",
       "      <td>18</td>\n",
       "      <td>0.8793</td>\n",
       "    </tr>\n",
       "    <tr>\n",
       "      <th>1</th>\n",
       "      <td>8724</td>\n",
       "      <td>75.741225</td>\n",
       "      <td>F</td>\n",
       "      <td>no fracture</td>\n",
       "      <td>78.0</td>\n",
       "      <td>162.0</td>\n",
       "      <td>No medication</td>\n",
       "      <td>56</td>\n",
       "      <td>0.7946</td>\n",
       "    </tr>\n",
       "    <tr>\n",
       "      <th>2</th>\n",
       "      <td>6736</td>\n",
       "      <td>70.778900</td>\n",
       "      <td>M</td>\n",
       "      <td>no fracture</td>\n",
       "      <td>73.0</td>\n",
       "      <td>170.5</td>\n",
       "      <td>No medication</td>\n",
       "      <td>10</td>\n",
       "      <td>0.9067</td>\n",
       "    </tr>\n",
       "    <tr>\n",
       "      <th>3</th>\n",
       "      <td>24180</td>\n",
       "      <td>78.247175</td>\n",
       "      <td>F</td>\n",
       "      <td>no fracture</td>\n",
       "      <td>60.0</td>\n",
       "      <td>148.0</td>\n",
       "      <td>No medication</td>\n",
       "      <td>14</td>\n",
       "      <td>0.7112</td>\n",
       "    </tr>\n",
       "    <tr>\n",
       "      <th>4</th>\n",
       "      <td>17072</td>\n",
       "      <td>54.191877</td>\n",
       "      <td>M</td>\n",
       "      <td>no fracture</td>\n",
       "      <td>55.0</td>\n",
       "      <td>161.0</td>\n",
       "      <td>No medication</td>\n",
       "      <td>20</td>\n",
       "      <td>0.7909</td>\n",
       "    </tr>\n",
       "    <tr>\n",
       "      <th>5</th>\n",
       "      <td>3806</td>\n",
       "      <td>77.177752</td>\n",
       "      <td>M</td>\n",
       "      <td>no fracture</td>\n",
       "      <td>65.0</td>\n",
       "      <td>168.0</td>\n",
       "      <td>No medication</td>\n",
       "      <td>7</td>\n",
       "      <td>0.7301</td>\n",
       "    </tr>\n",
       "    <tr>\n",
       "      <th>6</th>\n",
       "      <td>17106</td>\n",
       "      <td>56.180618</td>\n",
       "      <td>M</td>\n",
       "      <td>no fracture</td>\n",
       "      <td>77.0</td>\n",
       "      <td>159.0</td>\n",
       "      <td>No medication</td>\n",
       "      <td>26</td>\n",
       "      <td>1.0096</td>\n",
       "    </tr>\n",
       "    <tr>\n",
       "      <th>7</th>\n",
       "      <td>23834</td>\n",
       "      <td>49.916140</td>\n",
       "      <td>F</td>\n",
       "      <td>no fracture</td>\n",
       "      <td>59.0</td>\n",
       "      <td>150.0</td>\n",
       "      <td>No medication</td>\n",
       "      <td>9</td>\n",
       "      <td>0.7310</td>\n",
       "    </tr>\n",
       "    <tr>\n",
       "      <th>8</th>\n",
       "      <td>2454</td>\n",
       "      <td>68.408403</td>\n",
       "      <td>M</td>\n",
       "      <td>no fracture</td>\n",
       "      <td>64.0</td>\n",
       "      <td>167.0</td>\n",
       "      <td>Glucocorticoids</td>\n",
       "      <td>6</td>\n",
       "      <td>0.6893</td>\n",
       "    </tr>\n",
       "    <tr>\n",
       "      <th>9</th>\n",
       "      <td>2088</td>\n",
       "      <td>66.256648</td>\n",
       "      <td>M</td>\n",
       "      <td>no fracture</td>\n",
       "      <td>72.0</td>\n",
       "      <td>159.5</td>\n",
       "      <td>No medication</td>\n",
       "      <td>10</td>\n",
       "      <td>0.9466</td>\n",
       "    </tr>\n",
       "    <tr>\n",
       "      <th>10</th>\n",
       "      <td>5364</td>\n",
       "      <td>45.866582</td>\n",
       "      <td>M</td>\n",
       "      <td>no fracture</td>\n",
       "      <td>62.0</td>\n",
       "      <td>169.0</td>\n",
       "      <td>No medication</td>\n",
       "      <td>12</td>\n",
       "      <td>0.8015</td>\n",
       "    </tr>\n",
       "    <tr>\n",
       "      <th>11</th>\n",
       "      <td>8922</td>\n",
       "      <td>73.970471</td>\n",
       "      <td>F</td>\n",
       "      <td>no fracture</td>\n",
       "      <td>68.0</td>\n",
       "      <td>164.0</td>\n",
       "      <td>No medication</td>\n",
       "      <td>5</td>\n",
       "      <td>0.5793</td>\n",
       "    </tr>\n",
       "    <tr>\n",
       "      <th>12</th>\n",
       "      <td>23890</td>\n",
       "      <td>60.555417</td>\n",
       "      <td>F</td>\n",
       "      <td>no fracture</td>\n",
       "      <td>76.0</td>\n",
       "      <td>155.0</td>\n",
       "      <td>No medication</td>\n",
       "      <td>11</td>\n",
       "      <td>0.9760</td>\n",
       "    </tr>\n",
       "    <tr>\n",
       "      <th>13</th>\n",
       "      <td>3047</td>\n",
       "      <td>64.213103</td>\n",
       "      <td>M</td>\n",
       "      <td>no fracture</td>\n",
       "      <td>90.0</td>\n",
       "      <td>175.0</td>\n",
       "      <td>Glucocorticoids</td>\n",
       "      <td>28</td>\n",
       "      <td>0.9184</td>\n",
       "    </tr>\n",
       "    <tr>\n",
       "      <th>14</th>\n",
       "      <td>2179</td>\n",
       "      <td>53.395440</td>\n",
       "      <td>M</td>\n",
       "      <td>no fracture</td>\n",
       "      <td>70.0</td>\n",
       "      <td>162.5</td>\n",
       "      <td>No medication</td>\n",
       "      <td>73</td>\n",
       "      <td>0.8020</td>\n",
       "    </tr>\n",
       "  </tbody>\n",
       "</table>\n",
       "</div>"
      ],
      "text/plain": [
       "       id        age sex     fracture  weight_kg  height_cm       medication  \\\n",
       "0     469  57.052768   F  no fracture       64.0      155.5   Anticonvulsant   \n",
       "1    8724  75.741225   F  no fracture       78.0      162.0    No medication   \n",
       "2    6736  70.778900   M  no fracture       73.0      170.5    No medication   \n",
       "3   24180  78.247175   F  no fracture       60.0      148.0    No medication   \n",
       "4   17072  54.191877   M  no fracture       55.0      161.0    No medication   \n",
       "5    3806  77.177752   M  no fracture       65.0      168.0    No medication   \n",
       "6   17106  56.180618   M  no fracture       77.0      159.0    No medication   \n",
       "7   23834  49.916140   F  no fracture       59.0      150.0    No medication   \n",
       "8    2454  68.408403   M  no fracture       64.0      167.0  Glucocorticoids   \n",
       "9    2088  66.256648   M  no fracture       72.0      159.5    No medication   \n",
       "10   5364  45.866582   M  no fracture       62.0      169.0    No medication   \n",
       "11   8922  73.970471   F  no fracture       68.0      164.0    No medication   \n",
       "12  23890  60.555417   F  no fracture       76.0      155.0    No medication   \n",
       "13   3047  64.213103   M  no fracture       90.0      175.0  Glucocorticoids   \n",
       "14   2179  53.395440   M  no fracture       70.0      162.5    No medication   \n",
       "\n",
       "    waiting_time     bmd  \n",
       "0             18  0.8793  \n",
       "1             56  0.7946  \n",
       "2             10  0.9067  \n",
       "3             14  0.7112  \n",
       "4             20  0.7909  \n",
       "5              7  0.7301  \n",
       "6             26  1.0096  \n",
       "7              9  0.7310  \n",
       "8              6  0.6893  \n",
       "9             10  0.9466  \n",
       "10            12  0.8015  \n",
       "11             5  0.5793  \n",
       "12            11  0.9760  \n",
       "13            28  0.9184  \n",
       "14            73  0.8020  "
      ]
     },
     "execution_count": 50,
     "metadata": {},
     "output_type": "execute_result"
    }
   ],
   "source": [
    "MDF = pd.read_csv('fracture.csv')\n",
    "MDF.head(15)"
   ]
  },
  {
   "attachments": {},
   "cell_type": "markdown",
   "metadata": {},
   "source": [
    "#### 2. Add new column named “bmi” to store Body Mass Index for each record. Formula to calculate BMI is: weight_kg / (height_cm/100)^2."
   ]
  },
  {
   "cell_type": "code",
   "execution_count": 51,
   "metadata": {},
   "outputs": [
    {
     "data": {
      "text/html": [
       "<div>\n",
       "<style scoped>\n",
       "    .dataframe tbody tr th:only-of-type {\n",
       "        vertical-align: middle;\n",
       "    }\n",
       "\n",
       "    .dataframe tbody tr th {\n",
       "        vertical-align: top;\n",
       "    }\n",
       "\n",
       "    .dataframe thead th {\n",
       "        text-align: right;\n",
       "    }\n",
       "</style>\n",
       "<table border=\"1\" class=\"dataframe\">\n",
       "  <thead>\n",
       "    <tr style=\"text-align: right;\">\n",
       "      <th></th>\n",
       "      <th>id</th>\n",
       "      <th>age</th>\n",
       "      <th>sex</th>\n",
       "      <th>fracture</th>\n",
       "      <th>weight_kg</th>\n",
       "      <th>height_cm</th>\n",
       "      <th>medication</th>\n",
       "      <th>waiting_time</th>\n",
       "      <th>bmd</th>\n",
       "      <th>BMI</th>\n",
       "    </tr>\n",
       "  </thead>\n",
       "  <tbody>\n",
       "    <tr>\n",
       "      <th>0</th>\n",
       "      <td>469</td>\n",
       "      <td>57.052768</td>\n",
       "      <td>F</td>\n",
       "      <td>no fracture</td>\n",
       "      <td>64.0</td>\n",
       "      <td>155.5</td>\n",
       "      <td>Anticonvulsant</td>\n",
       "      <td>18</td>\n",
       "      <td>0.8793</td>\n",
       "      <td>26.467882</td>\n",
       "    </tr>\n",
       "    <tr>\n",
       "      <th>1</th>\n",
       "      <td>8724</td>\n",
       "      <td>75.741225</td>\n",
       "      <td>F</td>\n",
       "      <td>no fracture</td>\n",
       "      <td>78.0</td>\n",
       "      <td>162.0</td>\n",
       "      <td>No medication</td>\n",
       "      <td>56</td>\n",
       "      <td>0.7946</td>\n",
       "      <td>29.721079</td>\n",
       "    </tr>\n",
       "    <tr>\n",
       "      <th>2</th>\n",
       "      <td>6736</td>\n",
       "      <td>70.778900</td>\n",
       "      <td>M</td>\n",
       "      <td>no fracture</td>\n",
       "      <td>73.0</td>\n",
       "      <td>170.5</td>\n",
       "      <td>No medication</td>\n",
       "      <td>10</td>\n",
       "      <td>0.9067</td>\n",
       "      <td>25.111583</td>\n",
       "    </tr>\n",
       "    <tr>\n",
       "      <th>3</th>\n",
       "      <td>24180</td>\n",
       "      <td>78.247175</td>\n",
       "      <td>F</td>\n",
       "      <td>no fracture</td>\n",
       "      <td>60.0</td>\n",
       "      <td>148.0</td>\n",
       "      <td>No medication</td>\n",
       "      <td>14</td>\n",
       "      <td>0.7112</td>\n",
       "      <td>27.392257</td>\n",
       "    </tr>\n",
       "    <tr>\n",
       "      <th>4</th>\n",
       "      <td>17072</td>\n",
       "      <td>54.191877</td>\n",
       "      <td>M</td>\n",
       "      <td>no fracture</td>\n",
       "      <td>55.0</td>\n",
       "      <td>161.0</td>\n",
       "      <td>No medication</td>\n",
       "      <td>20</td>\n",
       "      <td>0.7909</td>\n",
       "      <td>21.218317</td>\n",
       "    </tr>\n",
       "    <tr>\n",
       "      <th>...</th>\n",
       "      <td>...</td>\n",
       "      <td>...</td>\n",
       "      <td>...</td>\n",
       "      <td>...</td>\n",
       "      <td>...</td>\n",
       "      <td>...</td>\n",
       "      <td>...</td>\n",
       "      <td>...</td>\n",
       "      <td>...</td>\n",
       "      <td>...</td>\n",
       "    </tr>\n",
       "    <tr>\n",
       "      <th>164</th>\n",
       "      <td>21892</td>\n",
       "      <td>77.982543</td>\n",
       "      <td>M</td>\n",
       "      <td>fracture</td>\n",
       "      <td>74.0</td>\n",
       "      <td>164.0</td>\n",
       "      <td>No medication</td>\n",
       "      <td>49</td>\n",
       "      <td>0.7941</td>\n",
       "      <td>27.513385</td>\n",
       "    </tr>\n",
       "    <tr>\n",
       "      <th>165</th>\n",
       "      <td>24140</td>\n",
       "      <td>50.285303</td>\n",
       "      <td>F</td>\n",
       "      <td>fracture</td>\n",
       "      <td>59.0</td>\n",
       "      <td>161.0</td>\n",
       "      <td>No medication</td>\n",
       "      <td>6</td>\n",
       "      <td>0.7971</td>\n",
       "      <td>22.761468</td>\n",
       "    </tr>\n",
       "    <tr>\n",
       "      <th>166</th>\n",
       "      <td>6969</td>\n",
       "      <td>46.359721</td>\n",
       "      <td>M</td>\n",
       "      <td>fracture</td>\n",
       "      <td>67.0</td>\n",
       "      <td>169.0</td>\n",
       "      <td>No medication</td>\n",
       "      <td>10</td>\n",
       "      <td>0.8037</td>\n",
       "      <td>23.458562</td>\n",
       "    </tr>\n",
       "    <tr>\n",
       "      <th>167</th>\n",
       "      <td>5505</td>\n",
       "      <td>54.788368</td>\n",
       "      <td>M</td>\n",
       "      <td>fracture</td>\n",
       "      <td>70.0</td>\n",
       "      <td>166.0</td>\n",
       "      <td>No medication</td>\n",
       "      <td>14</td>\n",
       "      <td>0.8072</td>\n",
       "      <td>25.402816</td>\n",
       "    </tr>\n",
       "    <tr>\n",
       "      <th>168</th>\n",
       "      <td>71</td>\n",
       "      <td>69.994822</td>\n",
       "      <td>F</td>\n",
       "      <td>fracture</td>\n",
       "      <td>68.5</td>\n",
       "      <td>165.0</td>\n",
       "      <td>No medication</td>\n",
       "      <td>25</td>\n",
       "      <td>0.8664</td>\n",
       "      <td>25.160698</td>\n",
       "    </tr>\n",
       "  </tbody>\n",
       "</table>\n",
       "<p>169 rows × 10 columns</p>\n",
       "</div>"
      ],
      "text/plain": [
       "        id        age sex     fracture  weight_kg  height_cm      medication  \\\n",
       "0      469  57.052768   F  no fracture       64.0      155.5  Anticonvulsant   \n",
       "1     8724  75.741225   F  no fracture       78.0      162.0   No medication   \n",
       "2     6736  70.778900   M  no fracture       73.0      170.5   No medication   \n",
       "3    24180  78.247175   F  no fracture       60.0      148.0   No medication   \n",
       "4    17072  54.191877   M  no fracture       55.0      161.0   No medication   \n",
       "..     ...        ...  ..          ...        ...        ...             ...   \n",
       "164  21892  77.982543   M     fracture       74.0      164.0   No medication   \n",
       "165  24140  50.285303   F     fracture       59.0      161.0   No medication   \n",
       "166   6969  46.359721   M     fracture       67.0      169.0   No medication   \n",
       "167   5505  54.788368   M     fracture       70.0      166.0   No medication   \n",
       "168     71  69.994822   F     fracture       68.5      165.0   No medication   \n",
       "\n",
       "     waiting_time     bmd        BMI  \n",
       "0              18  0.8793  26.467882  \n",
       "1              56  0.7946  29.721079  \n",
       "2              10  0.9067  25.111583  \n",
       "3              14  0.7112  27.392257  \n",
       "4              20  0.7909  21.218317  \n",
       "..            ...     ...        ...  \n",
       "164            49  0.7941  27.513385  \n",
       "165             6  0.7971  22.761468  \n",
       "166            10  0.8037  23.458562  \n",
       "167            14  0.8072  25.402816  \n",
       "168            25  0.8664  25.160698  \n",
       "\n",
       "[169 rows x 10 columns]"
      ]
     },
     "execution_count": 51,
     "metadata": {},
     "output_type": "execute_result"
    }
   ],
   "source": [
    "MDF['BMI'] = MDF['weight_kg'] / (MDF['height_cm'] / 100) ** 2\n",
    "MDF"
   ]
  },
  {
   "attachments": {},
   "cell_type": "markdown",
   "metadata": {},
   "source": [
    "#### 3. Split the data set in to test and train."
   ]
  },
  {
   "cell_type": "code",
   "execution_count": 52,
   "metadata": {},
   "outputs": [],
   "source": [
    "x = MDF[['age' , 'sex' , 'bmd' , 'BMI']]\n",
    "x\n",
    "\n",
    "\n",
    "y = MDF['fracture'].values"
   ]
  },
  {
   "cell_type": "code",
   "execution_count": 53,
   "metadata": {},
   "outputs": [
    {
     "name": "stderr",
     "output_type": "stream",
     "text": [
      "C:\\Users\\VAIBHAV DARJI\\AppData\\Local\\Temp\\ipykernel_17424\\1093710954.py:7: SettingWithCopyWarning: \n",
      "A value is trying to be set on a copy of a slice from a DataFrame.\n",
      "Try using .loc[row_indexer,col_indexer] = value instead\n",
      "\n",
      "See the caveats in the documentation: https://pandas.pydata.org/pandas-docs/stable/user_guide/indexing.html#returning-a-view-versus-a-copy\n",
      "  x['sex'] = label_s.fit_transform(x['sex'])\n"
     ]
    },
    {
     "data": {
      "text/html": [
       "<div>\n",
       "<style scoped>\n",
       "    .dataframe tbody tr th:only-of-type {\n",
       "        vertical-align: middle;\n",
       "    }\n",
       "\n",
       "    .dataframe tbody tr th {\n",
       "        vertical-align: top;\n",
       "    }\n",
       "\n",
       "    .dataframe thead th {\n",
       "        text-align: right;\n",
       "    }\n",
       "</style>\n",
       "<table border=\"1\" class=\"dataframe\">\n",
       "  <thead>\n",
       "    <tr style=\"text-align: right;\">\n",
       "      <th></th>\n",
       "      <th>age</th>\n",
       "      <th>sex</th>\n",
       "      <th>bmd</th>\n",
       "      <th>BMI</th>\n",
       "    </tr>\n",
       "  </thead>\n",
       "  <tbody>\n",
       "    <tr>\n",
       "      <th>0</th>\n",
       "      <td>57.052768</td>\n",
       "      <td>0</td>\n",
       "      <td>0.8793</td>\n",
       "      <td>26.467882</td>\n",
       "    </tr>\n",
       "    <tr>\n",
       "      <th>1</th>\n",
       "      <td>75.741225</td>\n",
       "      <td>0</td>\n",
       "      <td>0.7946</td>\n",
       "      <td>29.721079</td>\n",
       "    </tr>\n",
       "    <tr>\n",
       "      <th>2</th>\n",
       "      <td>70.778900</td>\n",
       "      <td>1</td>\n",
       "      <td>0.9067</td>\n",
       "      <td>25.111583</td>\n",
       "    </tr>\n",
       "    <tr>\n",
       "      <th>3</th>\n",
       "      <td>78.247175</td>\n",
       "      <td>0</td>\n",
       "      <td>0.7112</td>\n",
       "      <td>27.392257</td>\n",
       "    </tr>\n",
       "    <tr>\n",
       "      <th>4</th>\n",
       "      <td>54.191877</td>\n",
       "      <td>1</td>\n",
       "      <td>0.7909</td>\n",
       "      <td>21.218317</td>\n",
       "    </tr>\n",
       "    <tr>\n",
       "      <th>...</th>\n",
       "      <td>...</td>\n",
       "      <td>...</td>\n",
       "      <td>...</td>\n",
       "      <td>...</td>\n",
       "    </tr>\n",
       "    <tr>\n",
       "      <th>164</th>\n",
       "      <td>77.982543</td>\n",
       "      <td>1</td>\n",
       "      <td>0.7941</td>\n",
       "      <td>27.513385</td>\n",
       "    </tr>\n",
       "    <tr>\n",
       "      <th>165</th>\n",
       "      <td>50.285303</td>\n",
       "      <td>0</td>\n",
       "      <td>0.7971</td>\n",
       "      <td>22.761468</td>\n",
       "    </tr>\n",
       "    <tr>\n",
       "      <th>166</th>\n",
       "      <td>46.359721</td>\n",
       "      <td>1</td>\n",
       "      <td>0.8037</td>\n",
       "      <td>23.458562</td>\n",
       "    </tr>\n",
       "    <tr>\n",
       "      <th>167</th>\n",
       "      <td>54.788368</td>\n",
       "      <td>1</td>\n",
       "      <td>0.8072</td>\n",
       "      <td>25.402816</td>\n",
       "    </tr>\n",
       "    <tr>\n",
       "      <th>168</th>\n",
       "      <td>69.994822</td>\n",
       "      <td>0</td>\n",
       "      <td>0.8664</td>\n",
       "      <td>25.160698</td>\n",
       "    </tr>\n",
       "  </tbody>\n",
       "</table>\n",
       "<p>169 rows × 4 columns</p>\n",
       "</div>"
      ],
      "text/plain": [
       "           age  sex     bmd        BMI\n",
       "0    57.052768    0  0.8793  26.467882\n",
       "1    75.741225    0  0.7946  29.721079\n",
       "2    70.778900    1  0.9067  25.111583\n",
       "3    78.247175    0  0.7112  27.392257\n",
       "4    54.191877    1  0.7909  21.218317\n",
       "..         ...  ...     ...        ...\n",
       "164  77.982543    1  0.7941  27.513385\n",
       "165  50.285303    0  0.7971  22.761468\n",
       "166  46.359721    1  0.8037  23.458562\n",
       "167  54.788368    1  0.8072  25.402816\n",
       "168  69.994822    0  0.8664  25.160698\n",
       "\n",
       "[169 rows x 4 columns]"
      ]
     },
     "execution_count": 53,
     "metadata": {},
     "output_type": "execute_result"
    }
   ],
   "source": [
    "from sklearn.preprocessing import LabelEncoder\n",
    "label_y = LabelEncoder()\n",
    "y = label_y.fit_transform(y)\n",
    "y\n",
    "\n",
    "label_s = LabelEncoder()\n",
    "x['sex'] = label_s.fit_transform(x['sex'])\n",
    "x"
   ]
  },
  {
   "cell_type": "code",
   "execution_count": 54,
   "metadata": {},
   "outputs": [],
   "source": [
    "from sklearn.model_selection import train_test_split\n",
    "x_train , x_test , y_train , y_test = train_test_split(x , y , test_size=0.3)"
   ]
  },
  {
   "cell_type": "code",
   "execution_count": 55,
   "metadata": {},
   "outputs": [
    {
     "data": {
      "text/plain": [
       "51"
      ]
     },
     "execution_count": 55,
     "metadata": {},
     "output_type": "execute_result"
    }
   ],
   "source": [
    "y_train.size\n",
    "y_test.size"
   ]
  },
  {
   "attachments": {},
   "cell_type": "markdown",
   "metadata": {},
   "source": [
    "#### 4. Build a logistic regression model to predict the fracture considering age, sex, bmi and bmd."
   ]
  },
  {
   "cell_type": "code",
   "execution_count": 56,
   "metadata": {},
   "outputs": [
    {
     "data": {
      "text/plain": [
       "array([1, 0, 1, 1, 1, 0, 1, 0, 1, 1, 1, 1, 1, 1, 1, 0, 1, 1, 1, 1, 1, 0,\n",
       "       1, 1, 1, 1, 1, 0, 1, 1, 1, 1, 1, 1, 0, 1, 1, 1, 1, 1, 1, 1, 1, 1,\n",
       "       1, 1, 1, 1, 1, 0, 1])"
      ]
     },
     "execution_count": 56,
     "metadata": {},
     "output_type": "execute_result"
    }
   ],
   "source": [
    "from sklearn.linear_model  import LogisticRegression\n",
    "logmodel = LogisticRegression()\n",
    "logmodel.fit(x_train , y_train)\n",
    "\n",
    "y_pred = logmodel.predict(x_test)\n",
    "y_pred"
   ]
  },
  {
   "attachments": {},
   "cell_type": "markdown",
   "metadata": {},
   "source": [
    "#### 5. Apply the model on to the test and train data. Plot the outcomes of prediction using appropriate graph."
   ]
  },
  {
   "cell_type": "code",
   "execution_count": null,
   "metadata": {},
   "outputs": [],
   "source": []
  },
  {
   "attachments": {},
   "cell_type": "markdown",
   "metadata": {},
   "source": [
    "#### 6. Calculate accuracy of the model using confusion matix."
   ]
  },
  {
   "cell_type": "code",
   "execution_count": 60,
   "metadata": {},
   "outputs": [
    {
     "data": {
      "text/plain": [
       "array([[ 7, 10],\n",
       "       [ 1, 33]], dtype=int64)"
      ]
     },
     "execution_count": 60,
     "metadata": {},
     "output_type": "execute_result"
    }
   ],
   "source": [
    "from sklearn.metrics import confusion_matrix\n",
    "confusion_matrix(y_test ,y_pred)"
   ]
  },
  {
   "cell_type": "code",
   "execution_count": 70,
   "metadata": {},
   "outputs": [
    {
     "data": {
      "text/plain": [
       "0.7843137254901961"
      ]
     },
     "execution_count": 70,
     "metadata": {},
     "output_type": "execute_result"
    }
   ],
   "source": [
    "40/51"
   ]
  },
  {
   "cell_type": "code",
   "execution_count": 58,
   "metadata": {},
   "outputs": [
    {
     "data": {
      "text/plain": [
       "0.7843137254901961"
      ]
     },
     "execution_count": 58,
     "metadata": {},
     "output_type": "execute_result"
    }
   ],
   "source": [
    "logmodel.score(x_test ,y_test)"
   ]
  }
 ],
 "metadata": {
  "kernelspec": {
   "display_name": "Python 3",
   "language": "python",
   "name": "python3"
  },
  "language_info": {
   "codemirror_mode": {
    "name": "ipython",
    "version": 3
   },
   "file_extension": ".py",
   "mimetype": "text/x-python",
   "name": "python",
   "nbconvert_exporter": "python",
   "pygments_lexer": "ipython3",
   "version": "3.10.7"
  },
  "orig_nbformat": 4
 },
 "nbformat": 4,
 "nbformat_minor": 2
}
